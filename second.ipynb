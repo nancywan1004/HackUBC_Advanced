{
 "cells": [
  {
   "cell_type": "markdown",
   "metadata": {},
   "source": [
    "# Data manipulation\n",
    "In this second notebook, we are going to clean up and manipulate the data we exported from Canvas in the first workbook.\n",
    "\n",
    "We will start with loading the data we exported in the first workbook, and looking at the dictionary keys associated with each discussion post type."
   ]
  },
  {
   "cell_type": "markdown",
   "metadata": {},
   "source": [
    "## Load the data"
   ]
  },
  {
   "cell_type": "code",
   "execution_count": null,
   "metadata": {},
   "outputs": [],
   "source": [
    "import pandas as pd\n",
    "import json\n",
    "\n",
    "with open('all_topics.json', 'r') as f:\n",
    "    all_topics = json.load(f)\n",
    "\n",
    "with open('all_entries.json', 'r') as f:\n",
    "    all_entries = json.load(f)\n",
    "\n",
    "with open('all_replies.json', 'r') as f:\n",
    "    all_replies = json.load(f)"
   ]
  },
  {
   "cell_type": "markdown",
   "metadata": {},
   "source": [
    "# Explore the data\n",
    "\n",
    "If you haven't already, try printing some data from one of more of the discussion posts."
   ]
  },
  {
   "cell_type": "code",
   "execution_count": null,
   "metadata": {},
   "outputs": [],
   "source": [
    "all_topics[0].keys()"
   ]
  },
  {
   "cell_type": "code",
   "execution_count": null,
   "metadata": {},
   "outputs": [],
   "source": [
    "all_entries[0].keys()"
   ]
  },
  {
   "cell_type": "code",
   "execution_count": null,
   "metadata": {},
   "outputs": [],
   "source": [
    "all_replies[0].keys()"
   ]
  },
  {
   "cell_type": "code",
   "execution_count": null,
   "metadata": {},
   "outputs": [],
   "source": [
    "for topic in all_topics:\n",
    "    print(topic['user_name'], topic['message'])"
   ]
  },
  {
   "cell_type": "markdown",
   "metadata": {},
   "source": [
    "## Discussion content\n",
    "There's more information than we really need in some of these discussion posts, so let's extact only the data elements that are of interest. I've pre-selected a few here, but or remove as you like."
   ]
  },
  {
   "cell_type": "code",
   "execution_count": null,
   "metadata": {},
   "outputs": [],
   "source": [
    "keys_to_keep = ['user_name', 'created_at', 'message', 'discussion_id', 'id', 'parent_id']"
   ]
  },
  {
   "cell_type": "code",
   "execution_count": null,
   "metadata": {},
   "outputs": [],
   "source": [
    "reduced_topics = []\n",
    "for topic in all_topics:\n",
    "    reduced_topics.append({k: topic.get(k, None) for k in keys_to_keep})\n",
    "print(reduced_topics)"
   ]
  },
  {
   "cell_type": "code",
   "execution_count": null,
   "metadata": {},
   "outputs": [],
   "source": [
    "reduced_entries = []\n",
    "for entry in all_entries:\n",
    "    reduced_entries.append({k: entry.get(k, None) for k in keys_to_keep})"
   ]
  },
  {
   "cell_type": "code",
   "execution_count": null,
   "metadata": {},
   "outputs": [],
   "source": [
    "reduced_replies = []\n",
    "for topic in all_replies:\n",
    "    reduced_replies.append({k: topic.get(k, None) for k in keys_to_keep})\n",
    "print(reduced_replies)"
   ]
  },
  {
   "cell_type": "markdown",
   "metadata": {},
   "source": [
    "## Merging data\n",
    "\n",
    "now that we've extacted common keys from the three discussion post types, we can group them together into one data structure"
   ]
  },
  {
   "cell_type": "code",
   "execution_count": null,
   "metadata": {},
   "outputs": [],
   "source": [
    "all_posts = reduced_topics+reduced_entries+reduced_replies"
   ]
  },
  {
   "cell_type": "markdown",
   "metadata": {},
   "source": [
    "## Pandas\n",
    "\n",
    "docs: http://pandas.pydata.org/pandas-docs/stable/\n",
    "\n",
    "We are going to create a dataframe from the list-of-dictionaries data that we have.\n",
    "\n",
    "A dataframe is a table-like data structure that allows for powerful row-wise or column-wise slicing, dicing, or aggregating"
   ]
  },
  {
   "cell_type": "code",
   "execution_count": null,
   "metadata": {},
   "outputs": [],
   "source": [
    "df = pd.DataFrame(all_posts)\n",
    "df.to_csv('all_posts.csv', header=True, index=False)"
   ]
  },
  {
   "cell_type": "code",
   "execution_count": null,
   "metadata": {},
   "outputs": [],
   "source": [
    "# select only the rows of the dataframe from a particular discussion\n",
    "df[df['discussion_id']==259704]"
   ]
  },
  {
   "cell_type": "code",
   "execution_count": null,
   "metadata": {},
   "outputs": [],
   "source": [
    "# select only one column from the dataframe\n",
    "df['user_name']"
   ]
  },
  {
   "cell_type": "code",
   "execution_count": null,
   "metadata": {},
   "outputs": [],
   "source": [
    "# combining the above, we can get a listing of just the user names from a particular discussion\n",
    "df[df['discussion_id']==259704]['user_name']"
   ]
  },
  {
   "cell_type": "markdown",
   "metadata": {},
   "source": [
    "### Aggregating in Pandas\n",
    "Here we are going to print the total number of discussion topics/entries/replies for each user."
   ]
  },
  {
   "cell_type": "code",
   "execution_count": null,
   "metadata": {},
   "outputs": [],
   "source": [
    "posts_per_user = df['user_name'].value_counts().reset_index()\n",
    "posts_per_user.columns = ['user_name', 'count']\n",
    "posts_per_user.to_csv('posts_per_user.csv', header=True, index=False)\n",
    "print(posts_per_user)"
   ]
  },
  {
   "cell_type": "markdown",
   "metadata": {},
   "source": [
    "## What next?\n",
    "\n",
    "Try doing some more data exploration and manipulation!\n",
    "\n",
    "Here are some ideas:\n",
    "\n",
    "* Use pandas to find all your discussion posts\n",
    "* Use pandas to count the number of entries/replies in each discussion topic\n",
    "* Count the number of posts by day\n",
    "* Extract the message contents and count certain words"
   ]
  },
  {
   "cell_type": "code",
   "execution_count": null,
   "metadata": {},
   "outputs": [],
   "source": []
  }
 ],
 "metadata": {
  "kernelspec": {
   "display_name": "Python 3",
   "language": "python",
   "name": "python3"
  },
  "language_info": {
   "codemirror_mode": {
    "name": "ipython",
    "version": 3
   },
   "file_extension": ".py",
   "mimetype": "text/x-python",
   "name": "python",
   "nbconvert_exporter": "python",
   "pygments_lexer": "ipython3",
   "version": "3.6.8"
  }
 },
 "nbformat": 4,
 "nbformat_minor": 2
}
