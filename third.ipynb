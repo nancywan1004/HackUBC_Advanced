{
 "cells": [
  {
   "cell_type": "markdown",
   "metadata": {},
   "source": [
    "# Visualization\n",
    "\n",
    "this third notebook will explore data visualization in python using matplotlib\n",
    "\n",
    "docs: https://matplotlib.org/contents.html\n",
    "\n",
    "tutorial: https://matplotlib.org/tutorials/introductory/pyplot.html#sphx-glr-tutorials-introductory-pyplot-py\n",
    "\n",
    "some samples: https://matplotlib.org/tutorials/introductory/sample_plots.html"
   ]
  },
  {
   "cell_type": "code",
   "execution_count": null,
   "metadata": {},
   "outputs": [],
   "source": [
    "#use this ipython magic comamnd to display plots inline in the jupyter notebook\n",
    "%matplotlib inline\n",
    "\n",
    "import pandas as pd\n",
    "import matplotlib.pyplot as plt\n",
    "\n",
    "# this is used to fix a warning about future versions of pandas\n",
    "from pandas.plotting import register_matplotlib_converters\n",
    "register_matplotlib_converters()"
   ]
  },
  {
   "cell_type": "code",
   "execution_count": null,
   "metadata": {},
   "outputs": [],
   "source": [
    "posts_per_user = pd.read_csv('posts_per_user.csv')"
   ]
  },
  {
   "cell_type": "code",
   "execution_count": null,
   "metadata": {},
   "outputs": [],
   "source": [
    "#examine the top 5 rows of the dataframe\n",
    "posts_per_user.head()"
   ]
  },
  {
   "cell_type": "code",
   "execution_count": null,
   "metadata": {},
   "outputs": [],
   "source": [
    "# here we are creating a bar chart of the number of posts each user has made\n",
    "plt.figure(figsize=(16,2))\n",
    "plt.bar(posts_per_user['user_name'], posts_per_user['count'])\n",
    "plt.title(\"Posts by user\")\n",
    "plt.xlabel(\"User name\")\n",
    "plt.xticks(rotation=90)\n",
    "plt.ylabel(\"Total number of posts\")\n",
    "plt.show()"
   ]
  },
  {
   "cell_type": "markdown",
   "metadata": {},
   "source": [
    "## More data manipulation\n",
    "\n",
    "Here we are going to use the `created at` timestamp to order the discussion posts, and make a timeline representation showing the growth in the number of discussion posts over time."
   ]
  },
  {
   "cell_type": "code",
   "execution_count": null,
   "metadata": {},
   "outputs": [],
   "source": [
    "all_posts = pd.read_csv('all_posts.csv')\n",
    "all_posts.dtypes"
   ]
  },
  {
   "cell_type": "code",
   "execution_count": null,
   "metadata": {},
   "outputs": [],
   "source": [
    "#above, the datatype for created_at is 'object', meaning that pandas is treating the column as generic data\n",
    "# we can cast the creation data to timestamps with `to_datetime`\n",
    "all_posts['created_at'] = pd.to_datetime(all_posts['created_at'])\n",
    "all_posts['count'] = 1 # this is a dummy counter"
   ]
  },
  {
   "cell_type": "code",
   "execution_count": null,
   "metadata": {},
   "outputs": [],
   "source": [
    "# sort by creation date, and make a cumulative count of the number of posts, using the dummy counter\n",
    "all_posts = all_posts.sort_values('created_at')\n",
    "all_posts['cumulative_count'] = all_posts['count'].cumsum()"
   ]
  },
  {
   "cell_type": "code",
   "execution_count": null,
   "metadata": {},
   "outputs": [],
   "source": [
    "all_posts.head()"
   ]
  },
  {
   "cell_type": "code",
   "execution_count": null,
   "metadata": {},
   "outputs": [],
   "source": [
    "plt.figure(figsize=(16,2))\n",
    "plt.plot(all_posts['created_at'],all_posts['cumulative_count'])\n",
    "plt.show()"
   ]
  },
  {
   "cell_type": "code",
   "execution_count": null,
   "metadata": {},
   "outputs": [],
   "source": [
    "plt.figure(figsize=(16,2))\n",
    "plt.scatter(all_posts['created_at'],all_posts['cumulative_count'])\n",
    "plt.show()"
   ]
  },
  {
   "cell_type": "markdown",
   "metadata": {},
   "source": [
    "## What next?\n",
    "\n",
    "Here are some ideas for ways to start exploring plotting:\n",
    "\n",
    "* Plot a different aggregation of the data, for example, plot the number of posts in each discussion topic as a bar chart\n",
    "* Add additional chart features, such as a legend.\n",
    "* Display two (or more) different series of data in the same chart. For example, can you plot the cumulative posts-per-day for each discussion topic?\n",
    "* Highlight your own activity in the discussions (e.g. can you make a stacked bar chart of \"my posts\" and \"posts made by other users\"?"
   ]
  },
  {
   "cell_type": "code",
   "execution_count": null,
   "metadata": {},
   "outputs": [],
   "source": []
  }
 ],
 "metadata": {
  "kernelspec": {
   "display_name": "Python 3",
   "language": "python",
   "name": "python3"
  },
  "language_info": {
   "codemirror_mode": {
    "name": "ipython",
    "version": 3
   },
   "file_extension": ".py",
   "mimetype": "text/x-python",
   "name": "python",
   "nbconvert_exporter": "python",
   "pygments_lexer": "ipython3",
   "version": "3.6.8"
  }
 },
 "nbformat": 4,
 "nbformat_minor": 2
}
